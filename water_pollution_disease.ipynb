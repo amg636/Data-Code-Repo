{
 "cells": [
  {
   "cell_type": "code",
   "execution_count": null,
   "id": "39a75e4d-bb70-48c2-ad2a-42261c7d8325",
   "metadata": {},
   "outputs": [],
   "source": [
    "import pandas as pd\n",
    "import numpy as np\n",
    "import matplotlib.pyplot as plt\n",
    "import seaborn as sns\n",
    "import scipy.stats as stats\n",
    "\n",
    "from scipy.stats import shapiro\n",
    "from scipy.stats import kruskal\n",
    "from scipy.stats import levene\n",
    "from scipy.stats import spearmanr, pearsonr\n",
    "from scipy.stats import chi2_contingency\n",
    "from scipy.stats import mannwhitneyu\n",
    "from scipy.stats import linregress\n",
    "\n",
    "from sklearn.model_selection import train_test_split\n",
    "from sklearn.linear_model import LinearRegression\n",
    "from sklearn.metrics import mean_squared_error, r2_score\n",
    "from sklearn.preprocessing import LabelEncoder\n",
    "from collections import Counter\n",
    "from sklearn.tree import DecisionTreeClassifier\n",
    "from sklearn.ensemble import RandomForestClassifier\n",
    "from xgboost import XGBClassifier\n",
    "from sklearn.metrics import classification_report, confusion_matrix, accuracy_score, ConfusionMatrixDisplay\n",
    "from sklearn.metrics import confusion_matrix, ConfusionMatrixDisplay\n",
    "from xgboost import plot_importance\n",
    "from sklearn.model_selection import GridSearchCV\n",
    "from xgboost import XGBClassifier\n",
    "from sklearn.pipeline import Pipeline\n",
    "from sklearn.compose import ColumnTransformer\n",
    "from sklearn.preprocessing import OneHotEncoder\n",
    "\n",
    "import warnings\n",
    "warnings.simplefilter(action='ignore', category=Warning)\n"
   ]
  },
  {
   "cell_type": "code",
   "execution_count": null,
   "id": "abc08d28-71df-4999-b0cd-259c5f2067f3",
   "metadata": {},
   "outputs": [],
   "source": [
    "water_df= pd.read_csv('/Users/alexgrant/Downloads/water_pollution_disease.csv')\n",
    "water_df.head()"
   ]
  },
  {
   "cell_type": "code",
   "execution_count": null,
   "id": "f7cfb010-cb9c-4868-8d0f-6f5485214deb",
   "metadata": {},
   "outputs": [],
   "source": [
    "water_df.info()"
   ]
  },
  {
   "cell_type": "code",
   "execution_count": null,
   "id": "c125060e-b302-4b57-a6d9-e796f1f7a862",
   "metadata": {},
   "outputs": [],
   "source": [
    "water_df.isnull().sum()"
   ]
  },
  {
   "cell_type": "markdown",
   "id": "e9e6907d-6b7b-4e96-ae53-4cff7f1025d7",
   "metadata": {},
   "source": [
    "## Data Quality\n",
    "###### 747 missing values is high"
   ]
  },
  {
   "cell_type": "code",
   "execution_count": null,
   "id": "778640ea-9bec-4e42-b52d-8d978af039fe",
   "metadata": {},
   "outputs": [],
   "source": [
    "missing= water_df[water_df['Water Treatment Method'].isnull()]\n",
    "missing['Region'].value_counts().head()"
   ]
  },
  {
   "cell_type": "code",
   "execution_count": null,
   "id": "2fbf0b12-c032-415f-8be3-c1230fadf3c4",
   "metadata": {},
   "outputs": [],
   "source": [
    "missing['Country'].value_counts().head(10)"
   ]
  },
  {
   "cell_type": "markdown",
   "id": "49a4b52a-5ea7-48a8-b4c7-eac7056402b4",
   "metadata": {},
   "source": [
    "#### most of the missing data comes from countries with higher social inequality. since the data are concentrated to those regions, i will assign 'unknown' to them"
   ]
  },
  {
   "cell_type": "code",
   "execution_count": null,
   "id": "4731c024-4321-45e7-985c-38a63820c3be",
   "metadata": {},
   "outputs": [],
   "source": [
    "water_df['Water Treatment Method'] = water_df.groupby('Country')['Water Treatment Method']\\\n",
    "    .transform(lambda x: x.fillna(x.mode()[0] if not x.mode().empty else 'Unknown'))"
   ]
  },
  {
   "cell_type": "code",
   "execution_count": null,
   "id": "c02e6c5b-e3ae-4ed6-876d-7d2ef0107c48",
   "metadata": {},
   "outputs": [],
   "source": [
    "water_df.info()"
   ]
  },
  {
   "cell_type": "code",
   "execution_count": null,
   "id": "6ff06700-3158-4954-b38c-971081feadf0",
   "metadata": {},
   "outputs": [],
   "source": [
    "water_df.duplicated().sum()"
   ]
  },
  {
   "cell_type": "markdown",
   "id": "a38cc85e-5dc7-46c2-8726-6464cbba6bc2",
   "metadata": {},
   "source": [
    "##### After cleaning and processing hte dataset, I decided to focus the analysis on Mexico to explore regional disparities in public health indicators and their association with water quality factors"
   ]
  },
  {
   "cell_type": "code",
   "execution_count": null,
   "id": "5eecb7b1-4c57-490e-9948-99a0f06379f2",
   "metadata": {},
   "outputs": [],
   "source": [
    "mexico_df= water_df[water_df['Country']== 'Mexico']"
   ]
  },
  {
   "cell_type": "code",
   "execution_count": null,
   "id": "05852174-ea7a-4bb3-807b-dccd12477233",
   "metadata": {},
   "outputs": [],
   "source": [
    "mexico_df.head()"
   ]
  },
  {
   "cell_type": "code",
   "execution_count": null,
   "id": "7b6b776b-82c9-45af-96f4-8333d474b951",
   "metadata": {},
   "outputs": [],
   "source": [
    "mexico_df.isnull().sum()"
   ]
  },
  {
   "cell_type": "markdown",
   "id": "c3bf02d1-ece9-411a-9ee5-1da6ddc5a866",
   "metadata": {},
   "source": [
    "#### The importance of correlating environmental and health variables\n",
    "\n",
    "##### Understanding the relationship between the environment and public health is essential for developing effective policies and interventions. By correlating environmental variables such as water quality indicators with health indicators, researchers and policymakers can identify patterns and risk factors.\n",
    "\n",
    "##### This type of analysis provides evidence-based insights that help prioritize resources to improve health infrastructure and enhance access to clean water. It highlights vulnerable regions where targeted actions may significantly reduce disease and improve health conditions."
   ]
  },
  {
   "cell_type": "code",
   "execution_count": null,
   "id": "e07f00a4-005c-4206-8526-5117933fef65",
   "metadata": {},
   "outputs": [],
   "source": [
    "environmental_vars= [\n",
    "    'Contaminant Level (ppm)',\n",
    "    'pH Level',\n",
    "    'Turbidity (NTU)',\n",
    "    'Dissolved Oxygen (mg/L)',\n",
    "    'Nitrate Level (mg/L)',\n",
    "    'Lead Concentration (µg/L)',\n",
    "    'Bacteria Count (CFU/mL)'\n",
    "]\n",
    "\n",
    "health_vars= [\n",
    "    'Diarrheal Cases per 100,000 people',\n",
    "    'Cholera Cases per 100,000 people',\n",
    "    'Typhoid Cases per 100,000 people',\n",
    "    'Infant Mortality Rate (per 1,000 live births)'\n",
    "]\n",
    "\n",
    "correlations= pd.DataFrame(index=environmental_vars, columns=health_vars)\n",
    "\n",
    "for env_var in environmental_vars:\n",
    "    for health_var in health_vars:\n",
    "        coef, _= spearmanr(mexico_df[env_var], mexico_df[health_var])\n",
    "        correlations.loc[env_var, health_var]= coef\n",
    "\n",
    "correlations= correlations.astype(float)\n",
    "\n",
    "plt.figure(figsize=(10, 6))\n",
    "sns.heatmap(correlations, annot=True, fmt=\".2f\", cmap='coolwarm', center=0)\n",
    "plt.title(\"Spearman correlation between environmental and public health variables\")\n",
    "plt.xticks(rotation=45)\n",
    "plt.tight_layout()\n",
    "plt.show()"
   ]
  },
  {
   "cell_type": "markdown",
   "id": "318fd227-fda4-4aee-a19c-93d16c93e77e",
   "metadata": {},
   "source": [
    "### Analyzing the Relationship between Cholera Cases and Turbidity\n",
    "\n",
    "##### To explore the impact of cloudy or contaminated water on public health, I investigate the relationship between Turbidity (NTU) and Cholera Cases per 100,000 people in Mexico. Using Spearman's rank correlation, we assessed whether there is a monotonic association between these two varibales.\n",
    "\n",
    "##### The code below calculates the correlation coefficient and visualizes the relationship through a scatter plot with a trend line. This can help us describe how turbidity might be linked to the prevalence of cholera, supporting the hypothesis that poor water quality can significantly affect health outcomes."
   ]
  },
  {
   "cell_type": "code",
   "execution_count": null,
   "id": "96283ca1-904f-442f-b7d5-9d8686c55904",
   "metadata": {},
   "outputs": [],
   "source": [
    "x= mexico_df['Turbidity (NTU)']\n",
    "y= mexico_df['Cholera Cases per 100,000 people']\n",
    "\n",
    "coef, pval= spearmanr(x,y)\n",
    "print(f\"Spearman correlation: coef= {coef:.4f}, p-valor= {pval:.4f}\")\n",
    "\n",
    "plt.figure(figsize=(8,5))\n",
    "sns.regplot(x=x, y=y, scatter_kws={'alpha':0.6}, line_kws={'color':'red'}, ci=None)\n",
    "plt.title('Relationship Between Turbidity and Cholera Cases')\n",
    "plt.xlabel('Turbidity (NTU)')\n",
    "plt.ylabel('Cholera Cases per 100,000 people')\n",
    "plt.grid(True)\n",
    "plt.tight_layout()\n",
    "plt.show()"
   ]
  },
  {
   "cell_type": "markdown",
   "id": "1c9b9f0e-62a6-4124-976b-470ac7e2688d",
   "metadata": {},
   "source": [
    "### Interpretation\n",
    "##### The spearman correlation coefficient between Turbidity (NTU) and Cholera Cases per 100,000 people is 0.1519 with a p-value of 0.0098. This suggests there is a weak but statistically significant positive correlation. In other words, as the turbidity of the water increases, cholera cases tend to slightly increase as well.\n",
    "\n",
    "##### Although the correlation is not strong, the low p-value indicates that the relationship is unlikely due to random chance. This highlights the potential role of cloudy water in contributing to cholera (a waterborne disease) and emphasizes the importance of monitoring and improving water quality to improve public health."
   ]
  },
  {
   "cell_type": "markdown",
   "id": "4101aeea-ba3f-48ab-a008-68073ab95102",
   "metadata": {},
   "source": [
    "### Analyzing regional patterns of Turbidity\n",
    "##### To better understand water turbidity across different regions of Mexico, the data is grouped by region below and the average was calculated. This helps analyze which regions typically experience higher turbidity in water sources, which can be a critical factor in the spread of waterborne diseases. The results are presented both in a table and in a bar chart for easier comparison and interpretation."
   ]
  },
  {
   "cell_type": "code",
   "execution_count": null,
   "id": "5f24f569-316a-4ebb-8081-f11641b6466b",
   "metadata": {},
   "outputs": [],
   "source": [
    "turbidity_by_reg= mexico_df.groupby('Region')['Turbidity (NTU)'].mean().sort_values(ascending=False) #group by region\n",
    "print('Average Turbidity by Region:')\n",
    "print(turbidity_by_reg)\n",
    "\n",
    "#graph\n",
    "plt.figure(figsize=(8,5))\n",
    "sns.barplot(x=turbidity_by_reg.index,y=turbidity_by_reg.values, palette= 'crest')\n",
    "plt.title('Average Turbidity by Region in Mexico')\n",
    "plt.ylabel('Average Turbidity (NTU)')\n",
    "plt.xlabel('Region')\n",
    "plt.xticks(rotation=45)\n",
    "plt.grid(axis='y')\n",
    "plt.tight_layout()\n",
    "plt.show()"
   ]
  },
  {
   "cell_type": "code",
   "execution_count": null,
   "id": "1df4242c-17ea-4e1b-9bad-3f27d4c279e6",
   "metadata": {},
   "outputs": [],
   "source": [
    "from scipy.stats import zscore\n",
    "\n",
    "#determine if there are any outliers in the Turbidity feature using zscore\n",
    "outliers = mexico_df[(zscore(mexico_df['Turbidity (NTU)']).abs() > 3)]\n",
    "outliers"
   ]
  },
  {
   "cell_type": "markdown",
   "id": "f6a83044-b1b7-4931-a5e6-d61aa4070156",
   "metadata": {},
   "source": [
    "### Conclusion\n",
    "##### The results indicate the the North region of Mexico has the highest average turbidity (2.721 NTU), followed closely by the South (2.656 NTU). In contrast, the Central region has the lowest average turbidity (2.246 NTU). Additionally, no outliers were found in the data which may have heavily affected the mean of these regions. This suggests a regional disparity in water quality between the north and south in comparison with the central. The north and south may be potentially facing greater public health risks, highlighting the need for targeted public health interventions and improved water treatment infrastructure in the most affected regions."
   ]
  },
  {
   "cell_type": "markdown",
   "id": "58c9119a-0bd1-43e3-935a-3de6d458b635",
   "metadata": {},
   "source": [
    "### Water source North region\n",
    "\n",
    "##### To gain a deeper insight into regional water quality and its potential public health disparities, I focused on the North region of Mexico. I analyzed the most commonly used water sources and compared their average turbidities. This helps to identify which bodies of water types may pose greater threats to public health."
   ]
  },
  {
   "cell_type": "code",
   "execution_count": null,
   "id": "c733117f-8a29-4450-9f64-d847bfa033fd",
   "metadata": {},
   "outputs": [],
   "source": [
    "north_df= mexico_df[mexico_df['Region']=='North']\n",
    "\n",
    "most_common_source= north_df['Water Source Type'].value_counts()\n",
    "print('Most common water sources in the North region:')\n",
    "print(most_common_source)\n",
    "\n",
    "turbidity_by_source= north_df.groupby('Water Source Type')['Turbidity (NTU)'].mean().sort_values(ascending=False)\n",
    "print('\\nAverage Turbidity by Water Source Type in the North Region:')\n",
    "print(turbidity_by_source)\n",
    "\n",
    "plt.figure(figsize=(8,5))\n",
    "sns.barplot(x=turbidity_by_source.index, y= turbidity_by_source.values, palette= 'flare')\n",
    "plt.title('Average Turbidity by Water Source North Mexico')\n",
    "plt.xlabel('Water Source Type')\n",
    "plt.ylabel('Average Turbidity (NTU)')\n",
    "plt.xticks(rotation=45)\n",
    "plt.grid(axis='y')\n",
    "plt.tight_layout()\n",
    "plt.show()"
   ]
  },
  {
   "cell_type": "markdown",
   "id": "d095849e-f0c8-4e64-8502-1fd6f775ff39",
   "metadata": {},
   "source": [
    "### Conclusion:\n",
    "##### The analysis revealed that taps are the most commonly used source in the North region of Mexico. However, rivers high the highest average turbidity of (3.769 NTU) with nothing nearly as high. These findings highlight that frequently used sources are not necessarily the cleanest and that natural sources (rivers) require stronger monitoring or treatment efforts to ensure higher public health standards."
   ]
  },
  {
   "cell_type": "markdown",
   "id": "551ce6aa-68e5-474d-9e08-53dbe884f968",
   "metadata": {},
   "source": [
    "### The relationship between Turbidity and Infant Mortality\n",
    "##### To further investigate potential public health implications of water clarity, a correlation analysis is conducted below between the turbidity and infant mortality rate in the North region of Mexico. This aims to explore wehter higher turbidity in water sources are associated with incresed infant mortality, a critical health indicator. The analysis includes normality testing and the use of Spearman's correlation, considering the distribution of the data."
   ]
  },
  {
   "cell_type": "code",
   "execution_count": null,
   "id": "e889ee9d-aae2-41ae-83af-ad83b52b571b",
   "metadata": {},
   "outputs": [],
   "source": [
    "x= north_df['Turbidity (NTU)']\n",
    "y= north_df['Infant Mortality Rate (per 1,000 live births)']\n",
    "\n",
    "#shapiro test used to test for normality of data\n",
    "shapiro_x= shapiro(x)\n",
    "shapiro_y= shapiro(y)\n",
    "print(f'Shapiro_Wilk for Turbidity: Statistics= {shapiro_x.statistic:.4f}, p-value= {shapiro_x.pvalue:.4f}')\n",
    "print(f'Shapiro_Wilk for Infant Mortality: Statistics= {shapiro_y.statistic:.4f}, p-value= {shapiro_y.pvalue:.4f}')\n",
    "\n",
    "coef, pval = spearmanr(x, y)\n",
    "print(f\"\\nSpearman correlation: coef = {coef:.4f}, p-valor = {pval:.4f}\")"
   ]
  },
  {
   "cell_type": "markdown",
   "id": "805a94a5-4455-4029-8743-bb493ca71125",
   "metadata": {},
   "source": [
    "### Conclusion\n",
    "##### The Shapiro-Wilk indicated that both variable deviate from normal distribution. Therefore, Spearman's rank correlation was used. The correlation analysis between Bacteria Count and Infant Mortality Rate in the North region resulted in a week positive correlation with a p-value of 0.9924. This suggests that there is no statistically significant relationship between turbidity and infant mortality rate in this region based on the data.\n",
    "### Region Means\n",
    "##### To better understand the regional disparities in public health outcomes, I calculated the average values of four key health indicators––Diarrheal Cases, Cholera Cases, Typhoid Cases, and Infant Mortality Rate––for each region in Mexico. By aggregating the data by region, this analysis aims to identify which areas are more impacted by waterborne diseases and infant health challenges."
   ]
  },
  {
   "cell_type": "code",
   "execution_count": null,
   "id": "d06d1467-e007-46e1-b523-fb0b34c2ad5e",
   "metadata": {},
   "outputs": [],
   "source": [
    "impact_vars= [\n",
    "    'Diarrheal Cases per 100,000 people',\n",
    "    'Cholera Cases per 100,000 people',\n",
    "    'Typhoid Cases per 100,000 people',\n",
    "    'Infant Mortality Rate (per 1,000 live births)'\n",
    "]\n",
    "\n",
    "region_means= mexico_df.groupby('Region')[impact_vars].mean().round(2)\n",
    "region_means"
   ]
  },
  {
   "cell_type": "markdown",
   "id": "29475111-5673-4eb8-8b57-3b0f8d1c0a21",
   "metadata": {},
   "source": [
    "### Conclusion\n",
    "##### The results show that the Central region reports the highest average cases of Diarrhea (299.60) and it also has the highest Infant Mortality Rate (54.72) per 1,000 live births. Below I will investigate the relationship between Diarrheal cases and IMR."
   ]
  },
  {
   "cell_type": "code",
   "execution_count": null,
   "id": "f89c0cb0-bafa-4a69-a900-74f3b678edf5",
   "metadata": {},
   "outputs": [],
   "source": [
    "x= north_df['Diarrheal Cases per 100,000 people']\n",
    "y= north_df['Infant Mortality Rate (per 1,000 live births)']\n",
    "\n",
    "#shapiro test used to test for normality of data\n",
    "shapiro_x= shapiro(x)\n",
    "shapiro_y= shapiro(y)\n",
    "print(f'Shapiro_Wilk for Diarrheal Cases: Statistics= {shapiro_x.statistic:.4f}, p-value= {shapiro_x.pvalue:.4f}')\n",
    "print(f'Shapiro_Wilk for Infant Mortality: Statistics= {shapiro_y.statistic:.4f}, p-value= {shapiro_y.pvalue:.4f}')\n",
    "\n",
    "coef, pval = spearmanr(x, y)\n",
    "print(f\"\\nSpearman correlation: coef = {coef:.4f}, p-valor = {pval:.4f}\")"
   ]
  },
  {
   "cell_type": "markdown",
   "id": "456afb91-fcad-48d7-9740-96ada54ffba5",
   "metadata": {},
   "source": [
    "### Conclusion:\n",
    "##### There is no statistically significant correlation between diarrheal cases and IMR. This suggests the public health outcomes are not evenly/uniformly distributed and may be influenced by multiple factors beyond waterborne disease exposure, such as access to healthcare, sanitation infrastructure, and socio-economic conditions."
   ]
  },
  {
   "cell_type": "markdown",
   "id": "9c918068-14c3-464b-8cb9-52312ebf3556",
   "metadata": {},
   "source": [
    "### Distribution of Health Indicators by Region in Mexico"
   ]
  },
  {
   "cell_type": "code",
   "execution_count": null,
   "id": "ea6ec643-89f2-4c25-92ab-e261278d1beb",
   "metadata": {},
   "outputs": [],
   "source": [
    "health_vars= [\n",
    "    'Diarrheal Cases per 100,000 people',\n",
    "    'Cholera Cases per 100,000 people',\n",
    "    'Typhoid Cases per 100,000 people',\n",
    "    'Infant Mortality Rate (per 1,000 live births)'\n",
    "]\n",
    "\n",
    "plt.figure(figsize=(14,10))\n",
    "\n",
    "for i, var in enumerate(health_vars,1):\n",
    "    plt.subplot(2,2,i)\n",
    "    sns.boxplot(data=mexico_df, x='Region', y=var, palette= 'pastel')\n",
    "    plt.title(f'{var} by Region')\n",
    "    plt.xticks(rotation=45)\n",
    "    plt.tight_layout()\n",
    "\n",
    "plt.suptitle('Distribution of Health Indicators by Region in Mexico', fontsize=16, y=1.03)\n",
    "plt.show()"
   ]
  },
  {
   "cell_type": "code",
   "execution_count": null,
   "id": "0b857932-ec9e-43b7-a423-747061503711",
   "metadata": {},
   "outputs": [],
   "source": [
    "plt.figure(figsize=(10,6))\n",
    "sns.boxplot(data= mexico_df, x='Region', y='Cholera Cases per 100,000 people', palette ='Set2')\n",
    "plt.ylabel('Cases per 100,000 people')\n",
    "plt.xlabel('Region')\n",
    "plt.title('Cholera Cases per 100,000 people by Region of Mexico')\n",
    "plt.tight_layout()\n",
    "plt.xticks(rotation=45)\n",
    "plt.show()"
   ]
  },
  {
   "cell_type": "code",
   "execution_count": null,
   "id": "a8c8a9e7-5725-4c22-bc00-d5865b76d5a5",
   "metadata": {},
   "outputs": [],
   "source": [
    "regions= mexico_df['Region'].unique()\n",
    "cholera_by_region= {\n",
    "    region: mexico_df[mexico_df['Region']== region]['Cholera Cases per 100,000 people']\n",
    "    for region in regions\n",
    "}\n",
    "\n",
    "#normality test\n",
    "print('Shapiro-Wilk test by region:')\n",
    "for region, data in cholera_by_region.items():\n",
    "    stat, p= shapiro(data)\n",
    "    print(f'{region:<10} - Statistic: {stat:.4f}, p-value: {p:.4f}')\n",
    "\n",
    "print('\\nKruskal-Wallis test:')\n",
    "kruskal_result= kruskal(*cholera_by_region.values())\n",
    "print(f'Statistic: {kruskal_result.statistic:.4f}, p-value: {kruskal_result.pvalue:.4f}')\n",
    "    "
   ]
  },
  {
   "cell_type": "markdown",
   "id": "ac6de398-0e54-4e94-9280-b7f0dabec6c7",
   "metadata": {},
   "source": [
    "### Conclusion\n",
    "##### The shapiro-wilk test results show that regional distributions deviate from normality with p-values below 0.05. I used the kruskal-wallace test because of non-normal distribution, but the p-value was 0.2933, suggesting that the distributions of cholera cases across regions are not significant at the 5% level. While regional variations exist visually, they are not different enough to conclude a meaninful difference in the median values."
   ]
  },
  {
   "cell_type": "markdown",
   "id": "48368b4f-f2be-4f1d-940f-031b8d659082",
   "metadata": {},
   "source": [
    "### Regional Distribution of Typhoid Cases in Mexico\n",
    "##### This analysis aims to examine the distribution of typhoid cases per 100,000 people across different regions in Mexico. A boxplot was used to visualize regional variations. The shapiro_wilk test was applied to test for normality of the data, and then the kruskal-wallis test was used as a non-parametric alternative to ANOVA to test for significant differences among the regions."
   ]
  },
  {
   "cell_type": "code",
   "execution_count": null,
   "id": "433763e1-9f9f-4314-8d13-f94e2b8daedb",
   "metadata": {},
   "outputs": [],
   "source": [
    "plt.figure(figsize=(10,6))\n",
    "sns.boxplot(data=mexico_df, x='Region', y='Typhoid Cases per 100,000 people', palette= 'Set3')\n",
    "plt.title('Distribution of Typhoid Cases Across Different Regions of Mexico')\n",
    "plt.xlabel('Region')\n",
    "plt.xticks(rotation=45)\n",
    "plt.ylabel('Cases per 100,000 people')\n",
    "plt.tight_layout()\n",
    "plt.show()"
   ]
  },
  {
   "cell_type": "code",
   "execution_count": null,
   "id": "28bd903d-57bf-40fd-9eaf-7c62ca7fb57c",
   "metadata": {},
   "outputs": [],
   "source": [
    "regions= mexico_df['Region'].unique()\n",
    "print('Shapiro-Wilk test by region:')\n",
    "for region in regions:\n",
    "    regional_data= mexico_df[mexico_df['Region']==region]['Typhoid Cases per 100,000 people']\n",
    "    stat, p= shapiro(regional_data)\n",
    "    print(f'{region:<10} - Statistic: {stat:.4f}, p-value: {p:.4f}')\n",
    "\n",
    "grouped_data= [mexico_df[mexico_df['Region']== region]['Typhoid Cases per 100,000 people'] for region in regions]\n",
    "\n",
    "kruskal_stat, kruskal_p= kruskal(*grouped_data)\n",
    "print(f'\\nKruskal_Wallis test:')\n",
    "print(f'Statistic: {kruskal_stat:.4f}, p-value: {kruskal_p:.4f}')"
   ]
  },
  {
   "cell_type": "code",
   "execution_count": null,
   "id": "c02e91dc-e2e2-4970-af60-712c15beef8e",
   "metadata": {},
   "outputs": [],
   "source": [
    "sns.kdeplot(mexico_df[mexico_df['Region']=='East']['Typhoid Cases per 100,000 people'], fill=True)\n",
    "plt.title('KDE of Typhoid Cases - East Mexico')\n",
    "plt.xlabel('Typhoid Cases')\n",
    "plt.show()"
   ]
  },
  {
   "cell_type": "code",
   "execution_count": null,
   "id": "4e124233-3583-4ce0-a39a-aa89076c3940",
   "metadata": {},
   "outputs": [],
   "source": [
    "sns.kdeplot(mexico_df[mexico_df['Region']=='Central']['Typhoid Cases per 100,000 people'], fill=True)\n",
    "plt.title('KDE of Typhoid Cases - Central Mexico')\n",
    "plt.xlabel('Typhoid Cases')\n",
    "plt.show()"
   ]
  },
  {
   "cell_type": "markdown",
   "id": "57205415-b420-49c1-b88d-4be7519c522f",
   "metadata": {},
   "source": [
    "### Conclusion\n",
    "##### The shapiro-wilk test indicated that all regions but east showed non-normal distributions with pvals<0.05, justifying the use of the kruskal-wallis test. The kruskal-wallis test showed no significant diffrence in the distribution of typhoid cases across the regions at 5% significance level. Although visual discrepancies are present, they are not supported by statistical evidence."
   ]
  },
  {
   "cell_type": "markdown",
   "id": "df1dbf60-411c-4d80-91bb-95c5f1b597bb",
   "metadata": {},
   "source": [
    "### Regional Distribution of Diarrheal Cases in Mexico"
   ]
  },
  {
   "cell_type": "code",
   "execution_count": null,
   "id": "42558020-5e43-4d77-be9a-b0f16415a024",
   "metadata": {},
   "outputs": [],
   "source": [
    "plt.figure(figsize=(10,6))\n",
    "sns.boxplot(data=mexico_df, x='Region', y='Diarrheal Cases per 100,000 people', palette='Set3')\n",
    "plt.title('Distribution of Diarrheal Cases per 100,000 people')\n",
    "plt.xlabel('Region')\n",
    "plt.ylabel('Cases per 100,000 people')\n",
    "plt.xticks(rotation=45)\n",
    "plt.tight_layout()\n",
    "plt.show()"
   ]
  },
  {
   "cell_type": "code",
   "execution_count": null,
   "id": "d303c8d2-f214-40af-81b0-674d79fe66e8",
   "metadata": {},
   "outputs": [],
   "source": [
    "regions= mexico_df['Region'].unique()\n",
    "print('Shapiro-Wilk test by region:')\n",
    "for region in regions:\n",
    "    regional_data= mexico_df[mexico_df['Region']==region]['Diarrheal Cases per 100,000 people']\n",
    "    stat, p= shapiro(regional_data)\n",
    "    print(f'{region:<10} - Statistic: {stat:.4f}, p-value: {p:.4f}')\n",
    "\n",
    "grouped_data= [mexico_df[mexico_df['Region']== region]['Diarrheal Cases per 100,000 people'] for region in regions]\n",
    "\n",
    "kruskal_stat, kruskal_p= kruskal(*grouped_data)\n",
    "print(f'\\nKruskal_Wallis test:')\n",
    "print(f'Statistic: {kruskal_stat:.4f}, p-value: {kruskal_p:.4f}')"
   ]
  },
  {
   "cell_type": "code",
   "execution_count": null,
   "id": "0103b94e-532b-473e-b604-d95d31ea932b",
   "metadata": {},
   "outputs": [],
   "source": [
    "plt.figure(figsize=(10, 6))\n",
    "\n",
    "# Loop through each region\n",
    "for region in mexico_df['Region'].unique():\n",
    "    region_data = mexico_df[mexico_df['Region'] == region]['Diarrheal Cases per 100,000 people']\n",
    "    sns.kdeplot(region_data, label=region, fill=True, alpha=0.3)\n",
    "\n",
    "plt.title(\"KDE of Diarrheal Cases by Region\")\n",
    "plt.xlabel(\"Diarrheal Cases\")\n",
    "plt.ylabel(\"Density\")\n",
    "plt.legend(title=\"Region\")\n",
    "plt.tight_layout()\n",
    "plt.show()\n"
   ]
  },
  {
   "cell_type": "code",
   "execution_count": null,
   "id": "6de5ce3d-8923-4f30-9fc8-da875734b781",
   "metadata": {},
   "outputs": [],
   "source": [
    "data = mexico_df[mexico_df['Region'] == 'East']['Diarrheal Cases per 100,000 people']\n",
    "\n",
    "sns.histplot(data, bins=20, kde=True)\n",
    "plt.title(f'Diarrheal Case Distribution - East')\n",
    "plt.xlabel(\"Cases\")\n",
    "plt.show()"
   ]
  },
  {
   "cell_type": "code",
   "execution_count": null,
   "id": "8064fe08-6fe8-4418-b744-4afc3fd1fe59",
   "metadata": {},
   "outputs": [],
   "source": [
    "mexico_df.info()"
   ]
  },
  {
   "cell_type": "code",
   "execution_count": null,
   "id": "6a68fc5a-f9dd-43dc-bd70-cabd942c090e",
   "metadata": {},
   "outputs": [],
   "source": [
    "urbanization_by_region= mexico_df.groupby('Region')['Urbanization Rate (%)'].mean().sort_values(ascending=False)\n",
    "urbanization_by_region"
   ]
  },
  {
   "cell_type": "markdown",
   "id": "94bf2b3f-eded-43bd-82ca-32a58ba47faa",
   "metadata": {},
   "source": [
    "### Temporal Analysis of Diarrheal Cases by Region in Brazil\n",
    "##### To understand how diarrheal cases change over time, I analyzed the trend of diarrheal case rates by region. The visualization highlights how each region has performed over the years in terms of reducing––or maintaining––its diarrheal rate."
   ]
  },
  {
   "cell_type": "code",
   "execution_count": null,
   "id": "cb41d708-af4d-4ca7-b8f3-e384d31de4f9",
   "metadata": {},
   "outputs": [],
   "source": [
    "diarrheal_trend= mexico_df.groupby(['Year', 'Region'])['Diarrheal Cases per 100,000 people'].mean().reset_index()\n",
    "\n",
    "plt.figure(figsize=(12,6))\n",
    "sns.lineplot(data=diarrheal_trend, x='Year', y='Diarrheal Cases per 100,000 people', hue='Region', marker='o', palette= 'tab10')\n",
    "plt.title('Diarrheal Case Temporal Trends by Region')\n",
    "plt.xlabel('Year')\n",
    "plt.ylabel('Diarrheal Cases per 100,000 people')\n",
    "plt.grid(True)\n",
    "plt.tight_layout()\n",
    "plt.legend(title='Region')\n",
    "plt.show()"
   ]
  },
  {
   "cell_type": "markdown",
   "id": "50f8f131-a0e6-41dd-8ef4-4f9d8ccf45b4",
   "metadata": {},
   "source": [
    "### Distribution of Infant Mortality Rate Across Mexico"
   ]
  },
  {
   "cell_type": "code",
   "execution_count": null,
   "id": "09f87c90-bf97-4015-99a0-32e1bd768768",
   "metadata": {},
   "outputs": [],
   "source": [
    "plt.figure(figsize=(10,6))\n",
    "sns.boxplot(data=mexico_df, x='Region', y='Infant Mortality Rate (per 1,000 live births)', palette='Set3')\n",
    "plt.title('Distribution of Infant Mortality Rates')\n",
    "plt.xlabel('Region')\n",
    "plt.ylabel('IMR')\n",
    "plt.xticks(rotation=45)\n",
    "plt.tight_layout()\n",
    "plt.show()"
   ]
  },
  {
   "cell_type": "code",
   "execution_count": null,
   "id": "c2da0e4d-ea7d-4eef-a8fb-6fa0cb154fcb",
   "metadata": {},
   "outputs": [],
   "source": [
    "regions= mexico_df['Region'].unique()\n",
    "print('Shapiro-Wilk test by region:')\n",
    "for region in regions:\n",
    "    regional_data= mexico_df[mexico_df['Region']==region]['Infant Mortality Rate (per 1,000 live births)']\n",
    "    stat, p= shapiro(regional_data)\n",
    "    print(f'{region:<10} - Statistic: {stat:.4f}, p-value: {p:.4f}')\n",
    "\n",
    "grouped_data= [mexico_df[mexico_df['Region']== region]['Infant Mortality Rate (per 1,000 live births)'] for region in regions]\n",
    "\n",
    "kruskal_stat, kruskal_p= kruskal(*grouped_data)\n",
    "print(f'\\nKruskal_Wallis test:')\n",
    "print(f'Statistic: {kruskal_stat:.4f}, p-value: {kruskal_p:.4f}')"
   ]
  },
  {
   "cell_type": "markdown",
   "id": "644ae87b-794c-4638-9058-2a265fa14881",
   "metadata": {},
   "source": [
    "### Conclusion\n",
    "##### The shapiro-wilk test shows that the distribution of imrs were non-normal except for the North and West, supporting the decision to use the kruskal-wallis test. The wallis test returned a pvalue of 0.2397 suggesting there is not enough evidence to conclude the distributions differ from each other. "
   ]
  },
  {
   "cell_type": "markdown",
   "id": "12465fd9-8347-4b80-a600-da8ca5e0a9fb",
   "metadata": {},
   "source": [
    "### Temporal Analysis of IMRs by Region in Mexico\n",
    "##### To understand how infant health outcomes have evolved across different parts of Mexico, I analyzed the tempral trend of IMRs by region."
   ]
  },
  {
   "cell_type": "code",
   "execution_count": null,
   "id": "e1aff60b-d5f3-410d-ace7-80639f6fe758",
   "metadata": {},
   "outputs": [],
   "source": [
    "imr_trend= mexico_df.groupby(['Year', 'Region'])['Infant Mortality Rate (per 1,000 live births)'].mean().reset_index()\n",
    "\n",
    "plt.figure(figsize=(12,6))\n",
    "sns.lineplot(data=imr_trend, x='Year', y='Infant Mortality Rate (per 1,000 live births)', hue='Region', marker='o', palette= 'tab10')\n",
    "plt.title('IMR Temporal Trends by Region')\n",
    "plt.xlabel('Year')\n",
    "plt.ylabel('IMR per 1,000 live births')\n",
    "plt.grid(True)\n",
    "plt.tight_layout()\n",
    "plt.legend(title='Region')\n",
    "plt.show()"
   ]
  },
  {
   "cell_type": "code",
   "execution_count": null,
   "id": "5afc9427-8a33-4792-be34-9dd7e73bb0c4",
   "metadata": {},
   "outputs": [],
   "source": [
    "regions= imr_trend['Region'].unique()\n",
    "for region in regions:\n",
    "    region_data= imr_trend[imr_trend['Region']==region]\n",
    "    slope, _,_,_,_= linregress(region_data['Year'], region_data['Infant Mortality Rate (per 1,000 live births)'])\n",
    "    print(f'{region} IMR trend slope: {slope:.4f}') "
   ]
  },
  {
   "cell_type": "markdown",
   "id": "814a503a-851c-40c6-8688-504ea536b361",
   "metadata": {},
   "source": [
    "### Conclusion\n",
    "##### Most of the regions have experienced a general decline in IMR, which implies that health conditions and infrastructure has improved. However, the South IMR has drastically increased with a slope of 0.9816, which deserves a deeper visualization and analysis in comparison with the East of -0.3746."
   ]
  },
  {
   "cell_type": "code",
   "execution_count": null,
   "id": "4ad35c6f-c5d2-40b8-bac8-164cf30c908b",
   "metadata": {},
   "outputs": [],
   "source": [
    "south_imr= mexico_df[mexico_df['Region']=='South'][['Year', 'Infant Mortality Rate (per 1,000 live births)']]\n",
    "sns.lineplot(data=south_imr, x='Year', y='Infant Mortality Rate (per 1,000 live births)', color= 'red',ci=None)\n",
    "plt.title('South Region Infant Mortality Rate (IMR) over time')\n",
    "plt.ylabel('IMR per 1,000 live births')\n",
    "plt.xlabel('Year')\n",
    "plt.xticks(ticks=range(south_imr['Year'].min(), south_imr['Year'].max()+1), rotation=45)\n",
    "plt.tight_layout()\n",
    "plt.grid(True)\n",
    "plt.axvspan(2006, 2009, color='red', alpha=0.3, label='2006-2009 rise')\n",
    "plt.axvspan(2022, 2023, color='orange', alpha=0.3, label='2022-2023 rise')\n",
    "plt.legend()\n",
    "plt.show()"
   ]
  },
  {
   "cell_type": "code",
   "execution_count": null,
   "id": "a82eba80-6ec9-48ef-9216-be9c73a5dfc6",
   "metadata": {},
   "outputs": [],
   "source": [
    "east_imr= mexico_df[mexico_df['Region']=='East'][['Year', 'Infant Mortality Rate (per 1,000 live births)']]\n",
    "sns.lineplot(data=east_imr, x='Year', y='Infant Mortality Rate (per 1,000 live births)', color= 'red',ci=None)\n",
    "plt.title('East Region Infant Mortality Rate (IMR) over time')\n",
    "plt.ylabel('IMR per 1,000 live births')\n",
    "plt.xlabel('Year')\n",
    "plt.xticks(ticks=range(east_imr['Year'].min(), east_imr['Year'].max()+1), rotation=45)\n",
    "plt.tight_layout()\n",
    "plt.grid(True)\n",
    "plt.axvspan(2009, 2011, color='yellow', alpha=0.3, label='2009-2011 rise')\n",
    "plt.legend()\n",
    "plt.show()"
   ]
  },
  {
   "cell_type": "code",
   "execution_count": null,
   "id": "2d54feec-7eea-4b9b-9724-aa5a6f4eada2",
   "metadata": {},
   "outputs": [],
   "source": [
    "south_imr = mexico_df[mexico_df['Region'] == 'South'][['Year', 'Infant Mortality Rate (per 1,000 live births)']]\n",
    "east_imr = mexico_df[mexico_df['Region'] == 'East'][['Year', 'Infant Mortality Rate (per 1,000 live births)']]\n",
    "\n",
    "fig, axes = plt.subplots(2, 1, figsize=(12, 10), sharex=True)\n",
    "\n",
    "sns.lineplot(data=south_imr, x='Year', y='Infant Mortality Rate (per 1,000 live births)', color='red', ci=None, ax=axes[0])\n",
    "axes[0].set_title('South Region Infant Mortality Rate (IMR) Over Time')\n",
    "axes[0].set_ylabel('IMR per 1,000 live births')\n",
    "axes[0].grid(True)\n",
    "axes[0].axvspan(2006, 2009, color='red', alpha=0.3, label='2006–2009 rise')\n",
    "axes[0].axvspan(2022, 2023, color='orange', alpha=0.3, label='2022–2023 rise')\n",
    "axes[0].legend()\n",
    "\n",
    "# East IMR plot\n",
    "sns.lineplot(data=east_imr, x='Year', y='Infant Mortality Rate (per 1,000 live births)', color='blue', ci=None, ax=axes[1])\n",
    "axes[1].set_title('East Region Infant Mortality Rate (IMR) Over Time')\n",
    "axes[1].set_ylabel('IMR per 1,000 live births')\n",
    "axes[1].set_xlabel('Year')\n",
    "axes[1].grid(True)\n",
    "axes[1].axvspan(2009, 2011, color='yellow', alpha=0.3, label='2009–2011 rise')\n",
    "axes[1].legend()\n",
    "\n",
    "# Shared x-axis ticks\n",
    "years = range(min(south_imr['Year'].min(), east_imr['Year'].min()),\n",
    "              max(south_imr['Year'].max(), east_imr['Year'].max()) + 1)\n",
    "axes[1].set_xticks(years)\n",
    "axes[1].tick_params(axis='x', rotation=45)\n",
    "\n",
    "plt.tight_layout()\n",
    "plt.show()"
   ]
  },
  {
   "cell_type": "code",
   "execution_count": null,
   "id": "c4accb8f-fdf0-45a8-8767-c5bb5ce1b1ec",
   "metadata": {},
   "outputs": [],
   "source": [
    "def slope_for_period(df, start, end):\n",
    "    period = df[(df['Year'] >= start) & (df['Year'] <= end)]\n",
    "    slope, _, _, _, _ = linregress(period['Year'], period['Infant Mortality Rate (per 1,000 live births)'])\n",
    "    return slope\n",
    "\n",
    "south_df = south_imr.copy()\n",
    "east_df = east_imr.copy()\n",
    "\n",
    "def test_pattern(south_data, east_data):\n",
    "    south_slope_06_09 = slope_for_period(south_data, 2006, 2009)\n",
    "    south_slope_10_14 = slope_for_period(south_data, 2010, 2014)  \n",
    "    east_slope_09_11 = slope_for_period(east_data, 2009, 2011)\n",
    "\n",
    "    return (south_slope_06_09 > 0) and (south_slope_10_14 < 0) and (east_slope_09_11 > 0)\n",
    "\n",
    "observed = test_pattern(south_df, east_df)\n",
    "\n",
    "\n",
    "n_perm = 1000\n",
    "count = 0\n",
    "\n",
    "for _ in range(n_perm):\n",
    "    south_shuffled = south_df.copy()\n",
    "    south_shuffled['Year'] = np.random.permutation(south_shuffled['Year'].values)\n",
    "    east_shuffled = east_df.copy()\n",
    "    east_shuffled['Year'] = np.random.permutation(east_shuffled['Year'].values)\n",
    "\n",
    "    if test_pattern(south_shuffled, east_shuffled):\n",
    "        count += 1\n",
    "\n",
    "p_value = count / n_perm\n",
    "print(f\"P-value for pattern happening by chance: {p_value}\")\n"
   ]
  },
  {
   "cell_type": "markdown",
   "id": "e69ba091-1f48-4eea-a3e7-bc20dce75ea7",
   "metadata": {},
   "source": [
    "### Conclusion\n",
    "##### There was a major spike in IMR between 2006 and 2009 in the south region of Mexico and another between 2022 and 2023. Both are most likely due to socioeconomic factors, so I will compare them with other variables such as GDP per capita. In comparison to the east region, just as the south region started to decline, the east region's imr drastically increased, suggesting one may have affected the other. However, when running a permutation test, it resulted in a p-value of 0.107 which means there isn't enough evidence to conclude that one caused the other."
   ]
  },
  {
   "cell_type": "code",
   "execution_count": null,
   "id": "7282f49b-adde-46b0-adf7-88d11c7ab950",
   "metadata": {},
   "outputs": [],
   "source": [
    "region_dfs = {region: mexico_df[mexico_df['Region'] == region] for region in ['West', 'South', 'East', 'North', 'Central']}\n",
    "mexico_df_agg= mexico_df.groupby('Region')['GDP per Capita (USD)'].describe()"
   ]
  },
  {
   "cell_type": "code",
   "execution_count": null,
   "id": "b257c158-36fe-4613-b04f-65c979d6f139",
   "metadata": {},
   "outputs": [],
   "source": [
    "mexico_df_agg"
   ]
  },
  {
   "cell_type": "code",
   "execution_count": null,
   "id": "a5933e9f-fdc7-4199-b866-a149c4631643",
   "metadata": {},
   "outputs": [],
   "source": [
    "plt.figure(figsize=(10,6))\n",
    "sns.boxplot(data=mexico_df, x='Region', y='GDP per Capita (USD)', palette ='Set3')\n",
    "plt.title('GDP per Capita (USD) by Region Mexico')\n",
    "plt.xlabel('Region')\n",
    "plt.ylabel('GDP (USD)')\n",
    "plt.xticks(rotation=45)\n",
    "plt.tight_layout()\n",
    "plt.show()"
   ]
  },
  {
   "cell_type": "markdown",
   "id": "55ddf4c1-a81e-4f66-8921-2eb11b9dbc98",
   "metadata": {},
   "source": [
    "### Conclusion\n",
    "##### Since the south had the spikes in IMR I will also do a temporal analysis of the GDP in the south."
   ]
  },
  {
   "cell_type": "code",
   "execution_count": null,
   "id": "8c08eae1-1e52-4627-bc71-28e47993afe0",
   "metadata": {},
   "outputs": [],
   "source": [
    "south_gdp= mexico_df[mexico_df['Region']=='South'][['Year', 'GDP per Capita (USD)']]\n",
    "sns.lineplot(data=south_gdp, x='Year', y='GDP per Capita (USD)', color= 'red',ci=None)\n",
    "plt.title('South Region GDP over time')\n",
    "plt.ylabel('GDP (USD)')\n",
    "plt.xlabel('Year')\n",
    "plt.xticks(ticks=range(south_gdp['Year'].min(), south_gdp['Year'].max()+1), rotation=45)\n",
    "plt.tight_layout()\n",
    "plt.grid(True)\n",
    "plt.show()\n",
    "slope, _,_,_,_= linregress(south_gdp['Year'], south_gdp['GDP per Capita (USD)'])\n",
    "print(f'South GDP trend slope: {slope:.4f}') "
   ]
  },
  {
   "cell_type": "code",
   "execution_count": null,
   "id": "5f7a0e57-5487-41ee-b829-ee620ac3fd7f",
   "metadata": {},
   "outputs": [],
   "source": [
    "east_gdp= mexico_df[mexico_df['Region']=='East'][['Year', 'GDP per Capita (USD)']]\n",
    "sns.lineplot(data=east_gdp, x='Year', y='GDP per Capita (USD)', color= 'blue',ci=None)\n",
    "plt.title('East Region GDP over time')\n",
    "plt.ylabel('GDP (USD)')\n",
    "plt.xlabel('Year')\n",
    "plt.xticks(ticks=range(east_gdp['Year'].min(), east_gdp['Year'].max()+1), rotation=45)\n",
    "plt.tight_layout()\n",
    "plt.grid(True)\n",
    "plt.show()\n",
    "x= east_gdp['Year']\n",
    "y= east_gdp['GDP per Capita (USD)']\n",
    "slope, intercept= np.polyfit(x,y,1)\n",
    "print(f'Slope of East GDP trendline is {slope:.2f}')\n"
   ]
  },
  {
   "cell_type": "code",
   "execution_count": null,
   "id": "c312a7d7-d036-41f9-8373-3911657be874",
   "metadata": {},
   "outputs": [],
   "source": [
    "gdp_trend= mexico_df.groupby(['Year', 'Region'])['GDP per Capita (USD)'].mean().reset_index()\n",
    "\n",
    "plt.figure(figsize=(12,6))\n",
    "sns.lineplot(data=gdp_trend, x='Year', y='GDP per Capita (USD)', hue='Region', marker='o', palette= 'tab10')\n",
    "plt.title('GDP Temporal Trends by Region')\n",
    "plt.xlabel('Year')\n",
    "plt.ylabel('GDP per Capita')\n",
    "plt.grid(True)\n",
    "plt.tight_layout()\n",
    "plt.legend(title='Region')\n",
    "plt.show()\n",
    "regions= gdp_trend['Region'].unique()\n",
    "for region in regions:\n",
    "    region_data= gdp_trend[gdp_trend['Region']==region]\n",
    "    x = region_data['Year']\n",
    "    y = region_data['GDP per Capita (USD)']\n",
    "    \n",
    "    slope, _, _, p_value, _ = linregress(x, y)\n",
    "    print(f\"{region} - Slope: {slope:.2f}, p-value: {p_value:.4f}\")"
   ]
  },
  {
   "cell_type": "markdown",
   "id": "36468671-7199-4188-9d87-da31ed974c35",
   "metadata": {},
   "source": [
    "### Conclusion\n",
    "##### I calculated the temporal trend line slope of each region's gdp, however each with significantly high pvals. This means that the data is random and year-to-year gdp fluctuates making the trendline slope very weak. I will test the gdp between the south and east regions since they had drastic differences in infant mortality rate."
   ]
  },
  {
   "cell_type": "code",
   "execution_count": null,
   "id": "4c669e22-060b-417c-ae59-ac1fba545cc3",
   "metadata": {},
   "outputs": [],
   "source": [
    "shapiro_south= shapiro(mexico_df[mexico_df['Region']=='South']['GDP per Capita (USD)'])\n",
    "shapiro_east= shapiro(mexico_df[mexico_df['Region']=='East']['GDP per Capita (USD)'])\n",
    "print(f'South - Statistic: {shapiro_south.statistic:.3f}, p-value: {shapiro_south.pvalue:.3f}')\n",
    "print(f'East  - Statistic: {shapiro_east.statistic:.3f}, p-value: {shapiro_east.pvalue:.3f}')"
   ]
  },
  {
   "cell_type": "code",
   "execution_count": null,
   "id": "aeaa91b1-c38e-41fa-8ac3-d31558dea0b5",
   "metadata": {},
   "outputs": [],
   "source": [
    "u_test= mannwhitneyu(mexico_df[mexico_df['Region']=='South']['GDP per Capita (USD)'],mexico_df[mexico_df['Region']=='East']['GDP per Capita (USD)'], alternative='two-sided')\n",
    "print(f'Mann-Whitney U - Statistic: {u_test.statistic:.3f}, p-value: {u_test.pvalue:.3f}')"
   ]
  },
  {
   "cell_type": "markdown",
   "id": "7df3aed4-a491-4a31-a09c-f733266753a7",
   "metadata": {},
   "source": [
    "### Conclusion\n",
    "##### To test if the distributions of the east and south are normal I used to the shapiro-wilk test. Both revealed they they are not normal, which prompted the use of the mann-whitney U test. The test resulted in a very low pvalue which means the distributions of the south and east differ. Below is a visualization"
   ]
  },
  {
   "cell_type": "code",
   "execution_count": null,
   "id": "2c439a97-a7e0-4168-a934-efd1d0b388f7",
   "metadata": {},
   "outputs": [],
   "source": [
    "sns.kdeplot(data=mexico_df[mexico_df['Region']=='South'], x='GDP per Capita (USD)', label='South', bw_adjust= 0.5, shade=True)\n",
    "sns.kdeplot(data=mexico_df[mexico_df['Region']=='East'], x='GDP per Capita (USD)', label='East', shade=True)\n",
    "plt.legend()\n",
    "plt.title('Distributions of South and East Mexico GDPs')\n",
    "plt.ylabel('Density')"
   ]
  },
  {
   "cell_type": "markdown",
   "id": "37ec92a3-e42e-4479-b5df-209d1b0afbfd",
   "metadata": {},
   "source": [
    "### Conclusion\n",
    "##### The south's gdp is potentially bimodal (two peaks) signifying that there may have been a socioeconomic shift at some time. Below, I created two time periods to help analyze the shift more closely."
   ]
  },
  {
   "cell_type": "code",
   "execution_count": null,
   "id": "959e7184-1e0d-452e-9fec-f2ece3def58f",
   "metadata": {},
   "outputs": [],
   "source": [
    "from scipy.stats import skew\n",
    "south_before_2010 = mexico_df[(mexico_df['Region']=='South') & (mexico_df['Year'] < 2010)]['GDP per Capita (USD)']\n",
    "south_after_2010 = mexico_df[(mexico_df['Region']=='South') & (mexico_df['Year'] >= 2010)]['GDP per Capita (USD)']\n",
    "\n",
    "plt.figure(figsize=(8,5))\n",
    "sns.kdeplot(south_before_2010, shade=True, label='Before 2010')\n",
    "sns.kdeplot(south_after_2010, shade=True, label='2010 and after')\n",
    "plt.title('South GDP KDE by Time Period')\n",
    "plt.xlabel('GDP per Capita (USD)')\n",
    "plt.ylabel('Density')\n",
    "plt.legend()\n",
    "plt.show()\n",
    "\n",
    "skew_before= skew(south_before_2010)\n",
    "skew_after= skew(south_after_2010)\n",
    "print(f\"Skewness of South GDP before 2010: {skew_before:.3f}\")\n",
    "print(f\"Skewness of South GDP 2010 and after: {skew_after:.3f}\")"
   ]
  },
  {
   "cell_type": "markdown",
   "id": "eaa92ff9-6366-46e5-b52a-0ce268174c19",
   "metadata": {},
   "source": [
    "### Conclusion\n",
    "##### It is clear that there was a significant shift in GDP distribution from before 2010 to after 2010. I decided to calculate skweness to quantify the shift, so before 2010 it was 0.331 which means much of the GDP per Capital lies in the lower quartile with high outliers, while after 2010 it flips with higher in the upper quartile with some lower outliers. Below I conduct a mannwhitney u test to confirm the difference in distributions between the two time periods in the south region of mexico."
   ]
  },
  {
   "cell_type": "code",
   "execution_count": null,
   "id": "698d02eb-8919-44f1-b7c9-6754ca3e12ac",
   "metadata": {},
   "outputs": [],
   "source": [
    "stat, p= mannwhitneyu(south_before_2010, south_after_2010, alternative='two-sided')\n",
    "print(f'Mann-Whitney U test Statistic: {stat:.3f}')\n",
    "print(f'p-value: {p:.3f}')"
   ]
  },
  {
   "cell_type": "markdown",
   "id": "76d82316-1a0d-4a0c-b401-a8741e1d33a8",
   "metadata": {},
   "source": [
    "### Conclusion\n",
    "##### After conduction the Mann whitney U test, we can conclude that there is no statistically signficant difference (p=0.833>0.05) between the distributions in the time periods. The difference between the south's imr and east's imr may lie due to other socioeconomic factors such as access to clean water and sanitation rate."
   ]
  },
  {
   "cell_type": "code",
   "execution_count": null,
   "id": "9abdbb66-7175-4223-92e5-5953a96d153f",
   "metadata": {},
   "outputs": [],
   "source": [
    "mexico_df.info()"
   ]
  },
  {
   "cell_type": "code",
   "execution_count": null,
   "id": "b5bdfbc4-9b6d-4d4c-9187-83317ef02694",
   "metadata": {},
   "outputs": [],
   "source": [
    "plt.figure(figsize=(8,5))\n",
    "sns.boxplot(data=mexico_df[mexico_df['Region'].isin(['South','East'])], x='Region', y='Access to Clean Water (% of Population)', palette='Set2')\n",
    "plt.title('Access to Clean Water - East vs. South')\n",
    "plt.ylabel('Access')\n",
    "plt.xlabel('Region')\n",
    "plt.show()"
   ]
  },
  {
   "cell_type": "code",
   "execution_count": null,
   "id": "49736ff8-c9dd-4b60-ba27-612ccbb5fe30",
   "metadata": {},
   "outputs": [],
   "source": [
    "stat_south, p_south= shapiro(mexico_df[mexico_df['Region']=='South']['Access to Clean Water (% of Population)'])\n",
    "stat_east, p_east= shapiro(mexico_df[mexico_df['Region']=='East']['Access to Clean Water (% of Population)'])\n",
    "\n",
    "print(f'South stat: {stat_south:.3f}, p-value: {p_south:.3f}')\n",
    "print(f'East stat: {stat_east:.3f}, p-value: {p_east:.3f}')\n"
   ]
  },
  {
   "cell_type": "code",
   "execution_count": null,
   "id": "e9d26b5c-faf9-444c-a014-a8031f893d80",
   "metadata": {},
   "outputs": [],
   "source": [
    "stat_mw, p_mw= mannwhitneyu(mexico_df[mexico_df['Region']=='South']['Access to Clean Water (% of Population)'],mexico_df[mexico_df['Region']=='East']['Access to Clean Water (% of Population)'], alternative='two-sided')\n",
    "print(f'Mann whitney U stat: {stat_mw:.3f}, p-value: {p_mw:.3f}')"
   ]
  },
  {
   "cell_type": "markdown",
   "id": "25fcb142-e9e9-44f1-b957-089ca89cbd5a",
   "metadata": {},
   "source": [
    "### Conclusion\n",
    "##### The shapiro-wilk test results show that the distributions for both East (p=0.008) and South (p=0.011) regions significantly deviate from normality. Due to non-normality, I used the mann whitney u test to assess differences in distribution between the two. With (p=0.278), there is no significant difference in their distributions. People in the East and South appear to have similar levels of sanitation coverage."
   ]
  },
  {
   "cell_type": "code",
   "execution_count": null,
   "id": "55ee8860-f7a9-46b7-ac2e-d23975d4613f",
   "metadata": {},
   "outputs": [],
   "source": [
    "from sklearn.preprocessing import StandardScaler\n",
    "from sklearn.decomposition import PCA\n",
    "scaler= StandardScaler()\n",
    "mexico_scaled= scaler.fit_transform(mexico_df.select_dtypes(include='number'))\n",
    "\n",
    "pca= PCA(n_components=2)\n",
    "principal_components= pca.fit_transform(mexico_scaled)\n",
    "pca_df= pd.DataFrame(data= principal_components, columns=['PC1', 'PC2', 'PC3'])\n",
    "\n",
    "plt.figure(figsize=(10,6))\n",
    "sns.scatterplot(data=pca_df, x='PC1', y='PC2')\n",
    "plt.title('PCA of Socio-Health Variables')\n",
    "plt.xlabel(f'PC1 ({pca.explained_variance_ratio_[0]:.2%} variance)')\n",
    "plt.ylabel(f'PC2 ({pca.explained_variance_ratio_[1]:.2%} variance)')\n",
    "plt.grid(True)\n",
    "plt.tight_layout()\n",
    "pca_df['Region'] = mexico_df['Region'].values[:len(pca_df)]  # match rows\n",
    "sns.scatterplot(data=pca_df, x='PC1', y='PC2', hue='Region')\n",
    "plt.show()\n",
    "\n",
    "print(\"Explained variance ratio:\", pca.explained_variance_ratio_)\n",
    "print(\"Cumulative variance explained:\", pca.explained_variance_ratio_.cumsum())"
   ]
  },
  {
   "cell_type": "code",
   "execution_count": null,
   "id": "6f856f6a-5aa5-4402-af7a-4fd7aab44259",
   "metadata": {},
   "outputs": [],
   "source": [
    "from sklearn.decomposition import PCA\n",
    "import matplotlib.pyplot as plt\n",
    "import numpy as np\n",
    "\n",
    "# Assuming X is your numeric data matrix (after scaling)\n",
    "\n",
    "pca = PCA()  # No n_components specified means keep all PCs\n",
    "pca.fit(mexico_scaled)\n",
    "\n",
    "# Explained variance ratio for all PCs\n",
    "explained_variance = pca.explained_variance_ratio_\n",
    "\n",
    "# Cumulative explained variance\n",
    "cumulative_variance = np.cumsum(explained_variance)\n",
    "\n",
    "# Print or inspect cumulative variance\n",
    "print(\"Cumulative variance explained:\", cumulative_variance)\n",
    "\n",
    "# Scree plot to visualize how many PCs explain most variance\n",
    "plt.figure(figsize=(8,5))\n",
    "plt.plot(range(1, len(explained_variance)+1), cumulative_variance, marker='o')\n",
    "plt.xlabel('Number of Principal Components')\n",
    "plt.ylabel('Cumulative Explained Variance')\n",
    "plt.title('Scree Plot')\n",
    "plt.grid(True)\n",
    "plt.show()\n"
   ]
  },
  {
   "cell_type": "code",
   "execution_count": null,
   "id": "b76f6318-d1f8-44bc-a5c6-b938a58116ef",
   "metadata": {},
   "outputs": [],
   "source": [
    "plt.plot(range(1, 15), cum_var, marker='o')\n",
    "plt.xlabel('Number of Principal Components')\n",
    "plt.ylabel('Cumulative Explained Variance')\n",
    "plt.title('Explained Variance vs Number of PCs')\n",
    "plt.grid(True)\n",
    "plt.show()\n",
    "\n",
    "pca = PCA(n_components=14)\n",
    "mexico_scaled_pca = pca.fit_transform(mexico_scaled)\n",
    "\n",
    "cum_var = pca.explained_variance_ratio_.cumsum()\n",
    "print(f\"Cumulative variance explained by 14 PCs: {cum_var[-1]*100:.2f}%\")\n"
   ]
  },
  {
   "cell_type": "code",
   "execution_count": null,
   "id": "7aabca5f-f12c-44e1-b92a-1a3d4278ec96",
   "metadata": {},
   "outputs": [],
   "source": [
    "\n",
    "\n",
    "pca_df = pd.DataFrame(mexico_scaled_pca[:, :3], columns=['PC1', 'PC2', 'PC3'])\n",
    "pca_df['Region'] = mexico_df['Region'].values  # or your grouping variable\n",
    "\n",
    "sns.scatterplot(data=pca_df, x='PC1', y='PC2', hue='Region')\n",
    "plt.title('PCA: First 2 Principal Components')\n",
    "plt.show()\n"
   ]
  },
  {
   "cell_type": "code",
   "execution_count": null,
   "id": "b06ea478-6ae7-443d-858e-68692f4534cf",
   "metadata": {},
   "outputs": [],
   "source": [
    "loadings = pd.DataFrame(pca.components_.T, columns=[f'PC{i+1}' for i in range(14)], index=mexico_df.select_dtypes(include='number').columns)\n",
    "print(loadings[['PC1', 'PC2', 'PC3']])"
   ]
  },
  {
   "cell_type": "code",
   "execution_count": null,
   "id": "e2fecb2d-130b-4e61-aafd-f248591c3fec",
   "metadata": {},
   "outputs": [],
   "source": [
    "import seaborn as sns\n",
    "import matplotlib.pyplot as plt\n",
    "import pandas as pd\n",
    "\n",
    "\n",
    "loadings = pd.DataFrame(pca.components_.T[:, :14], columns=[f'PC{i+1}' for i in range(14)], index= mexico_df.select_dtypes(include='number').columns)\n",
    "\n",
    "plt.figure(figsize=(12, 8))\n",
    "sns.heatmap(loadings, cmap='coolwarm', center=0, annot=True, fmt=\".2f\", linewidths=0.5)\n",
    "plt.title('PCA Loadings Heatmap (First 14 PCs)')\n",
    "plt.xlabel('Principal Components')\n",
    "plt.ylabel('Original Variables')\n",
    "plt.tight_layout()\n",
    "plt.show()\n"
   ]
  },
  {
   "cell_type": "code",
   "execution_count": null,
   "id": "7cfa68df-5ca9-43ba-b6dd-8c65dac71cc7",
   "metadata": {},
   "outputs": [],
   "source": [
    "domain_map = {\n",
    "    'Access to Clean Water': 'Infrastructure',\n",
    "    'GDP per Capita (USD)': 'Economic',\n",
    "    'Infant Mortality Rate (per 1,000 live births)': 'Health',\n",
    "    'Sanitation Coverage (% of Population)': 'Infrastructure',\n",
    "    'Diarrheal Cases per 100,000 people': 'Health',\n",
    "    'Contaminant Level': 'Science',\n",
    "    'pH Level': 'Science',\n",
    "    'Turbidity (NTU)': 'Science',\n",
    "    'Dissolved Oxygen (mg/L)': 'Science',\n",
    "    'Nitrate Level (mg/L)': 'Science',\n",
    "    'Lead Concentration (μg/L)': 'Science',\n",
    "    'Bacteria Count (CFU/L)': 'Science',\n",
    "    'Cholera Cases per 100,000 people': 'Health',\n",
    "    'Typhoid Cases per 100,000 people': 'Health',\n",
    "    'Healthcare Access Index (0-100)': 'Infrastructure',\n",
    "    'Urbanization Rate (%)': 'Infrastructure',\n",
    "    'Population Density (people per km²)': 'Infrastructure'\n",
    "}\n",
    "\n",
    "loadings['Domain']= loadings.index.map(domain_map)\n",
    "domain_loadings= loadings.groupby('Domain').apply(lambda df: df.abs().mean())\n",
    "print(domain_loadings)"
   ]
  },
  {
   "cell_type": "code",
   "execution_count": null,
   "id": "2bb05324-a618-4df2-8bf4-6c5b60810c0a",
   "metadata": {},
   "outputs": [],
   "source": [
    "plt.figure(figsize=(10,6))\n",
    "sns.heatmap(domain_loadings, annot=True, cmap='coolwarm', center=0)\n",
    "plt.title('Average Absolute Loadings by Domain and Principal Component')\n",
    "plt.show()\n"
   ]
  },
  {
   "cell_type": "code",
   "execution_count": null,
   "id": "c354ef6c-51e7-4033-8510-a7c7f654e93e",
   "metadata": {},
   "outputs": [],
   "source": [
    "pc9_loadings= loadings['PC9']\n",
    "pc9_loadings_df = pc9_loadings.reset_index().rename(columns={'index': 'Variable', 'PC9': 'Loading'})\n",
    "pc9_loadings_df['Domain'] = pc9_loadings_df['Variable'].map(domain_map)\n",
    "\n",
    "pc9_loadings_df['abs_loading'] = pc9_loadings_df['Loading'].abs()\n",
    "pc9_loadings_df = pc9_loadings_df.sort_values('abs_loading', ascending=False)\n",
    "\n",
    "# Plot\n",
    "plt.figure(figsize=(10, 8))\n",
    "sns.barplot(data=pc9_loadings_df, y='Variable', x='Loading', hue='Domain', dodge=False)\n",
    "plt.title('PC9 Loadings by Variable and Domain')\n",
    "plt.xlabel('Loading')\n",
    "plt.ylabel('Variable')\n",
    "plt.legend(title='Domain')\n",
    "plt.tight_layout()\n",
    "plt.show()\n"
   ]
  },
  {
   "cell_type": "code",
   "execution_count": null,
   "id": "b2e3dc01-5e55-4281-a828-6c72b9b9c93d",
   "metadata": {},
   "outputs": [],
   "source": [
    "import os\n",
    "os.getcwd()"
   ]
  },
  {
   "cell_type": "code",
   "execution_count": null,
   "id": "54fd074f-9106-49a3-8f68-ba87507b8e7a",
   "metadata": {},
   "outputs": [],
   "source": []
  }
 ],
 "metadata": {
  "kernelspec": {
   "display_name": "Python 3 (ipykernel)",
   "language": "python",
   "name": "python3"
  },
  "language_info": {
   "codemirror_mode": {
    "name": "ipython",
    "version": 3
   },
   "file_extension": ".py",
   "mimetype": "text/x-python",
   "name": "python",
   "nbconvert_exporter": "python",
   "pygments_lexer": "ipython3",
   "version": "3.9.6"
  }
 },
 "nbformat": 4,
 "nbformat_minor": 5
}
